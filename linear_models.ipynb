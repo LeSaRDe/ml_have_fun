{
 "cells": [
  {
   "cell_type": "markdown",
   "id": "52dcd95c-bd90-4b2a-a0f4-649968af411e",
   "metadata": {},
   "source": [
    "# Linear Models"
   ]
  },
  {
   "cell_type": "markdown",
   "id": "f6a210be-8396-4e7d-91fc-80ae3231768a",
   "metadata": {},
   "source": [
    "## 1. A Simple Problem\n",
    "Let's start with a simple and straightforward learning problem:\n",
    " - **Given**: A training set $T = \\{(1, 2), (3, 4)\\}$ consisting of two pairs of numbers. Each pair has the format $(x_i, y_i)$, where $x_i \\in \\mathbb{R}$ is the data and $y_i \\in \\mathbb{R}$ is the target value. \n",
    " - **Seek**: A linear function $y = w_1 x + w_0$ s.t. for any new data $x$, the function will output the best target value $y$ for $x$. \n",
    "\n",
    "In this problem, the only parameters to be determined are $w_0$ and $w_1$. As you may have learned in high school, $y = w_1 x + w_0$ is a straight line in the 2-D Euclidean plain, where $w_0$ is called the \"*intercept*\" of the line, and $w_1$ is called the \"*slope\"* of the line. What we are looking for is such a line that \"*fits*\" the training points the best. We will explain what \"*fit*\" actually means soon later. "
   ]
  },
  {
   "cell_type": "markdown",
   "id": "f7b973e8-f349-4e8a-97b1-a4b9be879ef4",
   "metadata": {},
   "source": [
    "## 2. NBS Hands-On\n",
    "\n",
    "Let's use *scikit-learn* to solve this learning problem, i.e. obtaining the desired values for $w_0$ and $w_1$. The linear regression model is what we need in this experiment. Please check out the following two links for more details about this model in *scikit-learn*:\n",
    "1. Linear Regression model API: https://scikit-learn.org/stable/modules/generated/sklearn.linear_model.LinearRegression.html#sklearn.linear_model.LinearRegression\n",
    "2. Linear models: https://scikit-learn.org/stable/modules/linear_model.html#\n",
    "\n",
    "**Some non-trivial Q&A:**\n",
    "1. What is a \"*model*\" anyway?\n",
    "    - From a math point of view, for example, a linear model is exactly the function expression of a line, like the one above. The model in math implies some of our beliefs about the desired function. Usually, such beliefs are called *inductive biases*. The beliefs can vary significantly up to problems, scenarios, learners' choices, and some other factors. For example, to learn a function that \"fits\" (sorry, I use this mysterious term again) the training data in the above problem, rather than a linear function, we may believe that a quadratic function (e.g. $y = w_2 x^2 + w_1 x + w_0$) is more appropriate. Then, this quadratic function will be our *model*, and $w_0, w_1, w_2$ are parameters to be learned.\n",
    "    - From an engineering point of view (i.e. talking about code), \"*model*\" usually means more than a math expression with parameters. A *model* implementation typically includes the math realization, some learning algorithms to learn parameters, and some additional arguments (called *hyperparameters*) to control the behaviors of the model and/or the learning algorithms.\n",
    "2. What is the difference between *learning model* and *learning algorithm*?\n",
    "    - Now that the term \"learning algorithm\" has been mentioned, it is necessary to distinguish it from the term \"model\". Learning algorithms aim to obtain concrete values for parameters specified by learning models. A learning model may collaborate with different learning algorithms. "
   ]
  },
  {
   "cell_type": "markdown",
   "id": "9c335927-3942-49b3-abb8-3a08b643911f",
   "metadata": {},
   "source": [
    "### 2.1 Train the Linear Regression Model"
   ]
  },
  {
   "cell_type": "code",
   "execution_count": 1,
   "id": "6a7d3401-2312-4665-a375-00c2729380a8",
   "metadata": {
    "tags": []
   },
   "outputs": [],
   "source": [
    "# To handle data\n",
    "import numpy as np\n",
    "# To access the learning model\n",
    "from sklearn import linear_model"
   ]
  },
  {
   "cell_type": "markdown",
   "id": "27bfa097-4542-4dd1-9fae-627857424029",
   "metadata": {},
   "source": [
    "- We create an instance of the class `LinearRegression` (provided in the package `linear_model`), which is the linear regression model to be learned."
   ]
  },
  {
   "cell_type": "code",
   "execution_count": 37,
   "id": "8ef98913-4407-4ea4-9848-4a1d6ffcf5f1",
   "metadata": {},
   "outputs": [],
   "source": [
    "# Construct data structures for data (X) and target values (Y). \n",
    "# Both X and Y are NumPy ndarray. \n",
    "# Required by scikit-learn, X must be a 2-D array. Each element in this array is a data point represented by an array containing \n",
    "# all data attribute values. In our problem, the data only has one attribute. This is why each element in X is 1-dim. \n",
    "X = np.asarray([[1], [3]])\n",
    "Y = np.asarray([2, 4])"
   ]
  },
  {
   "cell_type": "code",
   "execution_count": 38,
   "id": "10dd301c-f184-4406-8dda-2d56aeb51da9",
   "metadata": {},
   "outputs": [
    {
     "data": {
      "text/plain": [
       "array([[1],\n",
       "       [3]])"
      ]
     },
     "execution_count": 38,
     "metadata": {},
     "output_type": "execute_result"
    }
   ],
   "source": [
    "X"
   ]
  },
  {
   "cell_type": "code",
   "execution_count": 4,
   "id": "b054d8d6-68aa-4d17-8c6f-c07e49456e25",
   "metadata": {},
   "outputs": [
    {
     "data": {
      "text/plain": [
       "array([2, 4])"
      ]
     },
     "execution_count": 4,
     "metadata": {},
     "output_type": "execute_result"
    }
   ],
   "source": [
    "Y"
   ]
  },
  {
   "cell_type": "code",
   "execution_count": 5,
   "id": "971dec9f-a151-4d00-abdc-8ff7e4baaa1d",
   "metadata": {},
   "outputs": [],
   "source": [
    "# Train the linear regression model.\n",
    "# 'fit()' is the high-level API function call for training. When it finishes successfully, the training is done. \n",
    "lin_reg = linear_model.LinearRegression().fit(X, Y)"
   ]
  },
  {
   "cell_type": "code",
   "execution_count": 6,
   "id": "9bea931c-240c-43a0-9862-cbb77f7dd5a1",
   "metadata": {},
   "outputs": [
    {
     "data": {
      "text/plain": [
       "1.0"
      ]
     },
     "execution_count": 6,
     "metadata": {},
     "output_type": "execute_result"
    }
   ],
   "source": [
    "# Obtain the score of the learning quality. 1.0 is the best score, which means the learned model perfectly \"fits\" the training data.\n",
    "# Any other scores less than 1.0, which can be negative, indicate the imperfection of fitting the training data. \n",
    "# In our case, the score is 1.0, because two points determine a line. \n",
    "lin_reg.score(X, Y)"
   ]
  },
  {
   "cell_type": "code",
   "execution_count": 7,
   "id": "34c6c066-d15c-469a-8a0c-b2e3b4b5e659",
   "metadata": {},
   "outputs": [
    {
     "data": {
      "text/plain": [
       "array([1.])"
      ]
     },
     "execution_count": 7,
     "metadata": {},
     "output_type": "execute_result"
    }
   ],
   "source": [
    "# 'coef_' gives all learned parameters for \"slope\", i.e. all w_i except w_0, the intercept. Don't forget that if our data have more\n",
    "# attributes (e.g. x_i=[x_0, x_1, X_2]), then the learning algorithm will output more learned parameters.\n",
    "lin_reg.coef_"
   ]
  },
  {
   "cell_type": "code",
   "execution_count": 8,
   "id": "9c69b926-6cba-4dd3-aaa6-298dc5a66d5b",
   "metadata": {},
   "outputs": [
    {
     "data": {
      "text/plain": [
       "1.0000000000000004"
      ]
     },
     "execution_count": 8,
     "metadata": {},
     "output_type": "execute_result"
    }
   ],
   "source": [
    "# 'intercept_' gives the learned w_0, the intercept. \n",
    "lin_reg.intercept_"
   ]
  },
  {
   "cell_type": "markdown",
   "id": "4a789794-2c29-4bb2-84fe-414c03769ca0",
   "metadata": {},
   "source": [
    "- Up to this point, we have learned $w_0=1.0$ and $w_1=1.0$. And, thus, the learned straight line is $y = x + 1.0$. Now, let's figure the line as well as the training points to visually examine if the line \"fits\" the training data. "
   ]
  },
  {
   "cell_type": "code",
   "execution_count": 9,
   "id": "4794a84b-6865-429e-9c4f-cd5e8691dff4",
   "metadata": {},
   "outputs": [],
   "source": [
    "# Create a sample for X to draw the line.\n",
    "x_samples = [[I] for I in range(-10, 10, 1)]\n",
    "# Obtain the values of Y corresponding to the sample of X.\n",
    "y_vals = lin_reg.predict(x_samples)"
   ]
  },
  {
   "cell_type": "code",
   "execution_count": 10,
   "id": "af59e721-3845-49e8-b40b-83e9cbd04297",
   "metadata": {},
   "outputs": [
    {
     "data": {
      "text/plain": [
       "array([-9.00000000e+00, -8.00000000e+00, -7.00000000e+00, -6.00000000e+00,\n",
       "       -5.00000000e+00, -4.00000000e+00, -3.00000000e+00, -2.00000000e+00,\n",
       "       -1.00000000e+00,  6.66133815e-16,  1.00000000e+00,  2.00000000e+00,\n",
       "        3.00000000e+00,  4.00000000e+00,  5.00000000e+00,  6.00000000e+00,\n",
       "        7.00000000e+00,  8.00000000e+00,  9.00000000e+00,  1.00000000e+01])"
      ]
     },
     "execution_count": 10,
     "metadata": {},
     "output_type": "execute_result"
    }
   ],
   "source": [
    "y_vals"
   ]
  },
  {
   "cell_type": "code",
   "execution_count": 11,
   "id": "017b4c8c-83ca-49e1-ab84-cb3f14c0f88a",
   "metadata": {},
   "outputs": [
    {
     "data": {
      "text/plain": [
       "<matplotlib.legend.Legend at 0x7f72b1a11630>"
      ]
     },
     "execution_count": 11,
     "metadata": {},
     "output_type": "execute_result"
    },
    {
     "data": {
      "image/png": "[encoded data removed]",
      "text/plain": [
       "<Figure size 640x480 with 1 Axes>"
      ]
     },
     "metadata": {},
     "output_type": "display_data"
    }
   ],
   "source": [
    "# To draw figures\n",
    "import matplotlib.pyplot as plt\n",
    "\n",
    "fig, ax = plt.subplots()\n",
    "ax.plot(x_samples, y_vals, label='linear regression')\n",
    "ax.scatter(X.flatten(), Y, label='training data', color='tab:orange')\n",
    "plt.legend()"
   ]
  },
  {
   "cell_type": "markdown",
   "id": "8d0677ac-5ba7-44d1-9e41-912741c01299",
   "metadata": {},
   "source": [
    "- As reasonably expected, the learned straight line perfectly \"fits\" the two training data points, i.e. the two points accurately fall onto the line, because two points establish a line. (Note that we have not formally explained what \"fit\" means, and it does not mean that ALL training points are required to fall onto the curve of the learned function.)"
   ]
  },
  {
   "cell_type": "markdown",
   "id": "e20b2ca8-2105-4573-afef-6ee612805d0f",
   "metadata": {},
   "source": [
    "## 3. Pop Up the Hood of Learning\n",
    "\n",
    "During the learning above, the empirical goal is to determine the most appropriate values of $w_0$ and $w_1$ respectively so that the straight line parameterized by $w_0$ and $w_1$ \"fits\" the training data. Essentially, determining the values of parameters in machine learning is an **optimization problem**. In an optimization problem, two primary topics are **objectives** (i.e. what to optimize) and **optimization algorithms** (i.e. how to optimize). \n",
    "<!-- Now that we have known the values are in the range $(- \\infty, + \\infty)$, then, theoretically speaking, it is a plan to go through all possible values in the range and test each value against some specific criteria to identify the ones in desire. To do so, we have to define the criteria beforehand. -->"
   ]
  },
  {
   "cell_type": "markdown",
   "id": "20d18bbd-7720-4e40-9e49-a85e0020eb62",
   "metadata": {
    "jp-MarkdownHeadingCollapsed": true
   },
   "source": [
    "### 3.1 Objectives\n",
    "\n",
    "Informally, yet intuitively, the **objective** of a learning problem is a function that takes training data and possible values of desired parameters of the learning model (math-wise) as input, and outputs, typically, a real value indicating the quality of the current parameter values. The **optimization**, on the other hand, means an algorithmic procedure that seeks the parameter values maximizing or minimizing the returned value of the objective. \n",
    "\n",
    "The term \"**fit**\" means that the objective has been optimized as much as possible using the training data. Nonetheless, it's important to note that, even if the returned value of the objective couldn't be further improved in terms of the model and data in the training, the resulting model with the learned parameters may not be the optimality reflecting the true patterns of the data. \n",
    "\n",
    "Now, let's take a look at some typical objectives in linear regression. "
   ]
  },
  {
   "cell_type": "markdown",
   "id": "30ab9187-151f-4231-ab97-84798733e449",
   "metadata": {},
   "source": [
    "### 3.2 Least Squares in Linear Regression\n",
    "\n",
    "**Least squares** is the most popular objective in linear regression. The motivation is to minimize the difference between $y_i$ in the training data and $\\hat{y}_i$ predicted by the model. The objective is to seek a set of parameter values $\\vec{\\boldsymbol{w}}$ s.t. the following function is minimized:\n",
    "$$\n",
    "    s(\\vec{\\boldsymbol{w}}) = \\sum\\limits_{(x_i, y_i) \\in T} (y_i - \\hat{y}_i)^2\n",
    "$$\n",
    "where the vector $\\vec{\\boldsymbol{w}}$ contains all parameters for the model (e.g. in our above example, $\\vec{\\boldsymbol{w}} = \\begin{bmatrix} w_0 \\\\ w_1 \\end{bmatrix}$), and $T$ is the training data set. In a more mathematical way, this objective is written as:\n",
    "$$\n",
    "    \\DeclareMathOperator*{\\argmin}{arg\\,min}\n",
    "    \\argmin\\limits_{\\vec{\\boldsymbol{w}}} \\sum\\limits_{(x_i, y_i) \\in T} (y_i - \\hat{y}_i)^2\n",
    "$$\n",
    "where \"$\\argmin\\limits_{\\boldsymbol{\\theta}} f(x;\\boldsymbol{\\theta})$\" means \"seeking parameters $\\boldsymbol{\\theta}$ that minimize the function $f(x; \\boldsymbol{\\theta})$ parameterized by $\\boldsymbol{\\theta}$\". "
   ]
  },
  {
   "cell_type": "markdown",
   "id": "2df9f0c7-91f2-4f7c-add9-e0f019597f24",
   "metadata": {
    "jp-MarkdownHeadingCollapsed": true
   },
   "source": [
    "### 3.3 Optimization Algorithms\n",
    "\n",
    "An **optimization algorithm** is a programmatic procedure determining the exact or approximate values of desired parameters of a given objective. Typically, the designs of such algorithms follow either (sometimes, both) of the two directions: **analytic** and **searching**. \n",
    "\n",
    "**Analytic** methods directly compute solutions, exactly or approximately, to the problems. And, **searching** methods usually iteratively refine candidate solutions until some terminal conditions are satisfied. "
   ]
  },
  {
   "cell_type": "markdown",
   "id": "ed0740bd-0ccd-4024-bc4d-b9878d5dfce8",
   "metadata": {},
   "source": [
    "### 3.4 Solve Linear Least Squares Analytically\n",
    "In our above example, it has already known that $\\hat{y}_i = w_0 + w_1 x_i$, and thus the objective to be minimized is rewritten as: \n",
    "$$\n",
    "    s \\Big(\\begin{bmatrix} w_0 \\\\ w_1 \\end{bmatrix} \\Big) = \\Big(y_1 - (w_0 + w_1 x_1)\\Big)^2 + \\Big(y_2 - (w_0 + w_1 x_2)\\Big)^2\n",
    "$$\n",
    "This formula can also be written in a matrix form:\n",
    "$$\n",
    "    s (\\vec{\\boldsymbol{w}}) = (Y - \\hat{Y})^T (Y - \\hat{Y})\n",
    "$$\n",
    "where $Y = \\begin{bmatrix} y_1 \\\\ y_2 \\end{bmatrix}$, and $\\hat{Y} = X \\vec{\\boldsymbol{w}} = \\begin{bmatrix} 1 & x_1\\\\ 1 & x_2 \\end{bmatrix} \\begin{bmatrix} w_0 \\\\ w_1 \\end{bmatrix}$. Particularly, each row of $X$ is a data point, and we append $1$ to the front of each data row for convenience. (*<ins>Exercise</ins>: Please convince yourself that the matrix form is equal to the original form.*)\n",
    "\n",
    "In Calculus, we have learned that to find optima of a function we need to differentiate the function and let the derivative be zero. It is similar to Multivariate Calculus. This derivative is as follows:\n",
    "$$\n",
    "    \\boldsymbol{D}s(\\vec{\\boldsymbol{w}}) \n",
    "    = 2 (Y - X \\vec{\\boldsymbol{w}})^T (- X)\n",
    "$$\n",
    "*<ins>NOTE</ins>: To understand how we got this formula, the derivative and the chain rule in Multivariate Calculus are needed. (<ins>Exercise</ins>: Please try to derive this formula by yourself.)* \n",
    "\n",
    "Let $\\boldsymbol{D}s(\\vec{\\boldsymbol{w}})$ be zero, and thus we get: \n",
    "$$\n",
    "    (Y - X \\vec{\\boldsymbol{w}})^T X = 0\n",
    "$$\n",
    "And, if $X^T X$ is nonsingular (i.e. its inverse exists), then \n",
    "$$\n",
    "    \\vec{\\boldsymbol{w}} = (X^T X)^{-1} X^T Y\n",
    "$$\n",
    "\n",
    "Next, let's try to compute $w_0$ and $w_1$ using this formula."
   ]
  },
  {
   "cell_type": "code",
   "execution_count": 55,
   "id": "d9de168c-9ebd-4d56-b578-20b1d39cd191",
   "metadata": {},
   "outputs": [],
   "source": [
    "# As mentioned above, we need to append '1' to each data point. \n",
    "X_ext = np.append([[1]]*2, X, axis=1)"
   ]
  },
  {
   "cell_type": "code",
   "execution_count": 51,
   "id": "6ca1ef8b-82c2-472f-a9a8-b21ec2c7f3e3",
   "metadata": {},
   "outputs": [
    {
     "data": {
      "text/plain": [
       "array([[1, 1],\n",
       "       [1, 3]])"
      ]
     },
     "execution_count": 51,
     "metadata": {},
     "output_type": "execute_result"
    }
   ],
   "source": [
    "X_ext"
   ]
  },
  {
   "cell_type": "code",
   "execution_count": 54,
   "id": "3713d7bd-894a-4679-a37f-b84e0a7707b2",
   "metadata": {},
   "outputs": [
    {
     "data": {
      "text/plain": [
       "array([2, 4])"
      ]
     },
     "execution_count": 54,
     "metadata": {},
     "output_type": "execute_result"
    }
   ],
   "source": [
    "# NumPy will automatically recognize an 1-d array as a vector (i.e. a column vector in math), and it can be directly multiplied to a matrix.\n",
    "Y"
   ]
  },
  {
   "cell_type": "code",
   "execution_count": 53,
   "id": "ea24ab7f-6954-4b01-9b6a-88b20cdb036c",
   "metadata": {},
   "outputs": [
    {
     "data": {
      "text/plain": [
       "array([1., 1.])"
      ]
     },
     "execution_count": 53,
     "metadata": {},
     "output_type": "execute_result"
    }
   ],
   "source": [
    "# Compute w_0 and w_1.\n",
    "np.matmul(np.matmul(np.linalg.inv(np.matmul(np.transpose(X_ext), X_ext)), np.transpose(X_ext)), Y)"
   ]
  },
  {
   "cell_type": "markdown",
   "id": "bae20b69-2eae-46fc-bec7-ecad445b1122",
   "metadata": {
    "editable": true,
    "slideshow": {
     "slide_type": ""
    },
    "tags": []
   },
   "source": [
    "The resulting vector is $\\begin{bmatrix} 1.0 \\\\ 1.0 \\end{bmatrix}$, i.e. $w_0 = 1.0$ and $w_1 = 1.0$. This is consistent with the results obtained from `linear_model.LinearRegression().fit(X, Y)`. \n",
    "\n",
    "Everything looks pretty neat so far in linear regression. Nonetheless, two facts need to be emphasized:\n",
    " - (1) Analytically solving an optimization problem does not mean that it guarantees optimal solutions. The above example is one of the simplest cases of linear regression, and it is easy to find the optimal solution.\n",
    " - (2) Though many optimization problems can be solved analytically, much more cannot. And, most optimization problems are NP-Hard, which means that it is unknown to humans yet if there exist polynomial-time algorithms to give exact and optimal solutions. Thus, when solving optimization problems in general, we may need to consider using searching approaches and outputting approximate solutions."
   ]
  },
  {
   "cell_type": "code",
   "execution_count": null,
   "id": "746ea904-5c87-484a-86b8-dd12777b5d85",
   "metadata": {},
   "outputs": [],
   "source": []
  }
 ],
 "metadata": {
  "kernelspec": {
   "display_name": "Python 3 (ipykernel)",
   "language": "python",
   "name": "python3"
  },
  "language_info": {
   "codemirror_mode": {
    "name": "ipython",
    "version": 3
   },
   "file_extension": ".py",
   "mimetype": "text/x-python",
   "name": "python",
   "nbconvert_exporter": "python",
   "pygments_lexer": "ipython3",
   "version": "3.10.12"
  }
 },
 "nbformat": 4,
 "nbformat_minor": 5
}
