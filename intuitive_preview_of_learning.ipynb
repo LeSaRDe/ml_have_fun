{
 "cells": [
  {
   "cell_type": "markdown",
   "id": "fe5c2a50-983e-4a19-a2cf-c9641d2efb6c",
   "metadata": {},
   "source": [
    "# Intuitive Preview of Learning"
   ]
  },
  {
   "cell_type": "markdown",
   "id": "0eee39f1-64d9-4a02-9562-1cd97565fa35",
   "metadata": {},
   "source": [
    "## <a name=\"sec:types_of_learning\" /> 1. Types of Learning\n",
    "\n",
    "Learning tasks may vary from case to case. Let us take a look at several examples.\n",
    "- (a) Given a collection of white wine data, each wine is described by a set of attributes, and labeled with a quality rank. Can we obtain a method, based on the data, to determine the quality rank of any white wine described by the attributes?\n",
    "- (b) Given a collection of automobile data, each automobile is described by a set of attributes, and labeled with a price. Can we obtain a method, based on the dta, to determine the price of any automobile descrbied by the attributes?\n",
    "- (c) Given a collection of customers, each customer is described by a set of attributes, but no labels. Can we group similar customers?\n",
    "- (d) Given a collection of white wine data. Only a few of them are labeled with quality ranks, and the rest is unlabeled. Can we obtain a method, based on both the labeled and unlabeled data, to determine the quality rank of any white wine?\n",
    "- (e) Given a time series data of weather of a region, can we predict the weather in the next five days?\n",
    "- (f) Given a video game, can we construct an AI agent that plays it well?\n",
    "\n",
    "Task (a) is **classification**. Task (b) is **regression**. Both of them are typical **supervised learning** tasks. Training a model solving a supervised learning task needs both data and associated labels. The primary difference between classification and regression is that the labels in classification are categories while those in regression are real numbers. \n",
    "\n",
    "Task (c) is **clustering**, and people also call this type of learning **unsupervised learning**. Clustering is distinguished from supervised learning for clustering does not need any label. \n",
    "\n",
    "Task (d) looks similar to Task (a); however, to address Task (d) well, both labeled and unlabeled data need to be used, which makes it distinguished from supervised learning. Task (d) is thus called **semi-supervised learning**, i.e., a hybrid of supervised learning and clustering.\n",
    "\n",
    "Task (e) is a bit subtle. Thinking it through, we will notice that this task is actually supervised, because the labels are implied in the data. For example, it can take the weathers from $t_i$ to $t_{i+5}$ as features, and use the weather at $t_{i+6}$ as the label. Nonetheless, this type of tasks are somewhat different from typical supervised learning tasks like (a) and (b). Usually, this type is called **self-supervised learning**, emphsizing that labels have already been implied in the data instead of being obtained from a labeling process.\n",
    "\n",
    "Task (f) differs from others in an intuitive way. Though, theoretically, it is also a supervised learning task. Typically, building such an AI agent needs awards and/or penalties when the agent performs well or bad. The awards and penalties are the labels, and the actions the agent conducted are the data. This type is called **reinforcement learning**."
   ]
  },
  {
   "cell_type": "markdown",
   "id": "d9db3575-a15c-4bad-9121-c148e1a8094d",
   "metadata": {},
   "source": [
    "## <a name=\"sec:supervised_model\" /> 2. What is a Model in Supervised Learning?\n",
    "\n",
    "- From a math point of view, a model embodies a belief of the \"patterns and rules\" hidden behind the data. \n",
    "\n",
    "\n",
    "- for example, a linear model is exactly the function expression of a line, like the one above. The model in math implies some of our beliefs about the desired function. Usually, such beliefs are called *inductive biases*. (Note that we will get back to *inductive bias* this concept later.) The beliefs can vary significantly up to problems, scenarios, learners' choices, and some other factors. For example, to learn a function that \"fits\" (sorry, I use this mysterious term again) the training data in the above problem, rather than a linear function, we may believe that a quadratic function (e.g. $y = w_2 x^2 + w_1 x + w_0$) is more appropriate. Then, this quadratic function will be our *model*, and $w_0, w_1, w_2$ are parameters to be learned. Hence, roughly, a model is a *parameterized function* in our current context. (Note that our current context is so-called *supervised learning*, a concept we will expand in detail later. And, as counterparts, other learning paradgims also exist, such as *clustering (i.e., unsupervised learning)* and *self-supervised learning*). \n",
    "    - From an engineering point of view (i.e. talking about code), \"*model*\" usually means more than a math expression with parameters. A *model* implementation typically includes the math realization, some learning algorithms to learn parameters, and some additional arguments (called *hyperparameters*) to control the behaviors of the model and/or the learning algorithms.\n",
    "- What is the difference between *learning model* and *learning algorithm*?\n",
    "    - Now that the term \"learning algorithm\" has been mentioned, it is necessary to distinguish it from the term \"model\". Learning algorithms aim to obtain concrete values for parameters specified by learning models. A learning model may collaborate with different learning algorithms. "
   ]
  }
 ],
 "metadata": {
  "kernelspec": {
   "display_name": "Python 3 (ipykernel)",
   "language": "python",
   "name": "python3"
  },
  "language_info": {
   "codemirror_mode": {
    "name": "ipython",
    "version": 3
   },
   "file_extension": ".py",
   "mimetype": "text/x-python",
   "name": "python",
   "nbconvert_exporter": "python",
   "pygments_lexer": "ipython3",
   "version": "3.10.12"
  }
 },
 "nbformat": 4,
 "nbformat_minor": 5
}
