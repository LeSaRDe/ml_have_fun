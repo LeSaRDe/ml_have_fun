{
 "cells": [
  {
   "cell_type": "markdown",
   "id": "0940a410-d263-493f-a363-d0246e585844",
   "metadata": {},
   "source": [
    "In Dr. Murphy's book, *Probabilistic Machine Learning: An Introduction*, the **probabilistic perspective** of machine learning is interpreted as treating all unknown quantities (e.g., parameters and predictions) as **random variables**. "
   ]
  }
 ],
 "metadata": {
  "kernelspec": {
   "display_name": "Python 3 (ipykernel)",
   "language": "python",
   "name": "python3"
  },
  "language_info": {
   "codemirror_mode": {
    "name": "ipython",
    "version": 3
   },
   "file_extension": ".py",
   "mimetype": "text/x-python",
   "name": "python",
   "nbconvert_exporter": "python",
   "pygments_lexer": "ipython3",
   "version": "3.10.12"
  }
 },
 "nbformat": 4,
 "nbformat_minor": 5
}
